{
 "cells": [
  {
   "cell_type": "code",
   "execution_count": 7,
   "metadata": {
    "collapsed": true
   },
   "outputs": [],
   "source": [
    "import tensorflow as tf\n",
    "\n",
    "model_path = 'E:/source/repos/anomaly_simulation/Zoo/Results/runs/27760a9c70ff4042931ceb142a3f651e/model/'\n",
    "converted_path = 'E:/source/repos/anomaly_simulation/Zoo/Results/runs/27760a9c70ff4042931ceb142a3f651e/model_quant'\n",
    "\n",
    "from pathlib import Path\n",
    "Path(converted_path).mkdir(parents=True, exist_ok=True)"
   ]
  },
  {
   "cell_type": "code",
   "execution_count": 8,
   "outputs": [],
   "source": [
    "converter = tf.lite.TFLiteConverter.from_saved_model(model_path)\n",
    "converter.optimizations = [tf.lite.Optimize.DEFAULT]\n",
    "\n",
    "tflite_quant_model = converter.convert()\n",
    "\n",
    "with open(converted_path + '/model.tflite', 'wb') as f:\n",
    "  f.write(tflite_quant_model)\n"
   ],
   "metadata": {
    "collapsed": false,
    "pycharm": {
     "name": "#%%\n"
    }
   }
  }
 ],
 "metadata": {
  "kernelspec": {
   "name": "anomaly_detection",
   "language": "python",
   "display_name": "anomaly_detection"
  },
  "language_info": {
   "codemirror_mode": {
    "name": "ipython",
    "version": 2
   },
   "file_extension": ".py",
   "mimetype": "text/x-python",
   "name": "python",
   "nbconvert_exporter": "python",
   "pygments_lexer": "ipython2",
   "version": "2.7.6"
  }
 },
 "nbformat": 4,
 "nbformat_minor": 0
}